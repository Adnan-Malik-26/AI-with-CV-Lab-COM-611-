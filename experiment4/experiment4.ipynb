{
 "cells": [
  {
   "cell_type": "code",
   "execution_count": 4,
   "id": "72d5736f-8cb9-4c99-b477-0b2cb68a5691",
   "metadata": {},
   "outputs": [
    {
     "name": "stdout",
     "output_type": "stream",
     "text": [
      "Final Hypothesis: ['?' '?' 'Circle']\n"
     ]
    }
   ],
   "source": [
    "import pandas as pd\n",
    "\n",
    "def find_s_algorithm(data):\n",
    "    features = data.iloc[:, :-1]\n",
    "    target = data.iloc[:, -1]\n",
    "    \n",
    "    hypothesis = None\n",
    "    \n",
    "    for i in range(len(target)):\n",
    "        if target[i] == \"Yes\":  \n",
    "            if hypothesis is None:\n",
    "                hypothesis = features.iloc[i].values  \n",
    "            else:\n",
    "                for j in range(len(hypothesis)):\n",
    "                    if hypothesis[j] != features.iloc[i, j]:\n",
    "                        hypothesis[j] = \"?\"\n",
    "    \n",
    "    return hypothesis\n",
    "\n",
    "data_path = \"data.csv\" \n",
    "\n",
    "df = pd.read_csv(data_path)\n",
    "\n",
    "final_hypothesis = find_s_algorithm(df)\n",
    "print(\"Final Hypothesis:\", final_hypothesis)\n"
   ]
  },
  {
   "cell_type": "code",
   "execution_count": 5,
   "id": "1356398f-4c67-42ee-ab03-9e97d4205c0a",
   "metadata": {},
   "outputs": [
    {
     "name": "stdout",
     "output_type": "stream",
     "text": [
      "Final S: ['Small', '?', 'Circle']\n",
      "Final G: [['?', '?', 'Circle']]\n"
     ]
    }
   ],
   "source": [
    "import pandas as pd\n",
    "\n",
    "def candidate_elimination(data):\n",
    "    features = data.iloc[:, :-1]\n",
    "    target = data.iloc[:, -1]\n",
    "    \n",
    "    S = [\"?\"] * len(features.columns)\n",
    "    G = [[\"?\"] * len(features.columns)]\n",
    "    \n",
    "    for i in range(len(target)):\n",
    "        if target[i] == \"Yes\":\n",
    "            for j in range(len(S)):\n",
    "                if S[j] == \"?\":\n",
    "                    S[j] = features.iloc[i, j]\n",
    "                elif S[j] != features.iloc[i, j]:\n",
    "                    S[j] = \"?\"\n",
    "            G = [g for g in G if all(g[k] == \"?\" or g[k] == S[k] for k in range(len(S)))]\n",
    "        else:\n",
    "            new_G = []\n",
    "            for j in range(len(features.columns)):\n",
    "                if S[j] != \"?\":\n",
    "                    g = S.copy()\n",
    "                    g[j] = \"?\"\n",
    "                    new_G.append(g)\n",
    "            G.extend(new_G)\n",
    "            G = [g for g in G if any(g[k] != \"?\" for k in range(len(g)))]\n",
    "    \n",
    "    return S, G\n",
    "\n",
    "data_path = \"data.csv\"\n",
    "df = pd.read_csv(data_path)\n",
    "S_final, G_final = candidate_elimination(df)\n",
    "print(\"Final S:\", S_final)\n",
    "print(\"Final G:\", G_final)\n"
   ]
  },
  {
   "cell_type": "code",
   "execution_count": null,
   "id": "9de2049b-2e45-4d8d-a8eb-4d6104ff3511",
   "metadata": {},
   "outputs": [],
   "source": []
  }
 ],
 "metadata": {
  "kernelspec": {
   "display_name": "Python 3 (ipykernel)",
   "language": "python",
   "name": "python3"
  },
  "language_info": {
   "codemirror_mode": {
    "name": "ipython",
    "version": 3
   },
   "file_extension": ".py",
   "mimetype": "text/x-python",
   "name": "python",
   "nbconvert_exporter": "python",
   "pygments_lexer": "ipython3",
   "version": "3.13.2"
  }
 },
 "nbformat": 4,
 "nbformat_minor": 5
}
